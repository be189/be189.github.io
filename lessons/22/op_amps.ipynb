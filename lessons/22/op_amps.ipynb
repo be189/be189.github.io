{
 "cells": [
  {
   "cell_type": "markdown",
   "metadata": {},
   "source": [
    "# 22. Operational amplifiers\n",
    "\n",
    "<hr>"
   ]
  },
  {
   "cell_type": "markdown",
   "metadata": {},
   "source": [
    "**Operational amplifiers**, known as op-amps, are exceedingly useful integrated circuits. In fact, Horowitz and Hill refer to them as the \"perfect part.\" In this lesson, you will get an introduction to op-amps and learn how to use on as a **non-inverting amplifier**."
   ]
  },
  {
   "cell_type": "markdown",
   "metadata": {},
   "source": [
    "## Op-amps with feedback\n",
    "\n",
    "An op-amp is an active (meaning externally powered with a DC power source) integrated circuit that has two inputs and one output. The *difference* between the two inputs is amplified with very high gain. Because of the high gain op-amps are almost always used with feedback.\n",
    "\n",
    "Op-amps are powered by a positive and negative voltage source, $V_+$ and $V_-$, with $V_- = -V_+$. Because it requires negative voltage, we cannot use the Arduino Uno to power the op-amp, but need an external power supply. The Digilent PowerBRICKs in your kit can serve as a good power supply.\n",
    "\n",
    "There are a few \"rules\" to keep in mind about op-amps used in feedback loops.\n",
    "\n",
    "1. The gain is huge (typically $10^5$-$10^6$).\n",
    "2. The inputs draw very small current (typically of order picoamps).\n",
    "3. The output tends to make the voltage difference zero.\n",
    "\n",
    "<!--\n",
    "More detail on rule 3, as per Yang:\n",
    "The output will \"rail\" (go to the max or min voltage) unless the difference between the inputs is very small. By putting an op-amp in a negative feedback configuration, we let the output control one of the inputs. This way, the output will settle at a non-\"rail\" voltage while keeping the input difference effectively at zero.\n",
    "-->\n",
    "\n",
    "Rule (3) follows from rules (1) and (2), which we demonstrate below. To quickly think about op-amps, it is useful to keep these rules of thumb in mind.\n",
    "\n",
    "We will apply op-amps to active filters, such as [Sallen-Key filters](https://en.wikipedia.org/wiki/Sallen–Key_topology), in the next lesson. For now, we will explore the use of an op-amp in a non-inverting amplifier, which is simpler to analyze, and the analysis provides insight."
   ]
  },
  {
   "cell_type": "markdown",
   "metadata": {},
   "source": [
    "## A non-inverting amplifier\n",
    "\n",
    "Consider the circuit below in which we connect an op-amp with feedback to a voltage divider.\n",
    "\n",
    "<div style=\"margin:auto; width: 250px;\">\n",
    "\n",
    "![Non-inverting amplifier circuit](noninverting_amp.svg)\n",
    "    \n",
    "</div>\n",
    "\n",
    "Note that we have labeled a point $a$ in the circuit as a reference for our analysis. The symbol for an op-amp is a triangle with two inputs and a single output. The op-amp amplifies the difference between the input labeled with a \"+\" (referred to as the noninverting input) and that labeled with a \"–\" (referred to as the inverting input). Pay close attention when looking at a schematic; the inverting input can be on top or bottom. In some schematics, the power supplies ($V_+$ and $V_-$) for the op-amp are also included, given as vertical connections on the slanted sides of the triangle. In many schematics, including this one, we do not explicitly show those and note that they are in fact there.\n",
    "\n",
    "Thinking intuitively about the circuit, imagine $V_\\mathrm{in}$ goes up. Remembering rule 3 above, if $V_\\mathrm{in}$ goes up, the output will be adjusted so that $V_\\mathrm{a}$ also goes up in order to drive the difference between the inputs to the op-amp to be close to zero. In order to get $V_a$ to go  up, $V_\\mathrm{out}$ must also go up. Similarly, if $V_\\mathrm{in}$ goes down, so too does $V_\\mathrm{out}$.\n",
    "\n",
    "To figure out how much $V_\\mathrm{out}$ goes up, we need to find the value of $V_\\mathrm{out}$ that will give $V_\\mathrm{a} = V_\\mathrm{in}$. Remembering what we have already worked out for a voltage divider, we have\n",
    "\n",
    "\\begin{align}\n",
    "V_\\mathrm{a} = \\frac{R_2}{R_1 + R_2}\\,V_\\mathrm{out}.\n",
    "\\end{align}\n",
    "\n",
    "Since the op-amp drives $V_\\mathrm{a} \\approx V_\\mathrm{in}$, we have\n",
    "\n",
    "\\begin{align}\n",
    "V_\\mathrm{out} = (1 + R_1/R_2)V_\\mathrm{in},\n",
    "\\end{align}\n",
    "\n",
    "which means that the op-amp amplifies the input by a factor of $1 + R_1/R_2$. Note that this amplification is independent of the gain or other properties of the op-amp. This is the beauty of op-amps. The nature of the amplification is entirely dependent on what circuit you put in the feedback and independent of the details of the op-amp itself.\n",
    "\n",
    "Of course, this only works within a given range of input and output voltages. The maximum $V_\\mathrm{out}$ for any op-amp is $V_+$ and the minimum $V_\\mathrm{out}$ is $V_-$. In between these boundaries, good op-amps give amplification that is independent of $V_+$ and $V_-$."
   ]
  },
  {
   "cell_type": "markdown",
   "metadata": {},
   "source": [
    "### A more detailed look\n",
    "\n",
    "It may seem unsatisfying that we used the \"rules\" to derive the above result. We could also do the analysis using Kirchhoff's laws. The op-amp takes the differential input, $V_\\mathrm{in} - V_\\mathrm{a}$ and amplifies it with gain $A$. Then,\n",
    "\n",
    "\\begin{align}\n",
    "V_\\mathrm{out} = A(V_\\mathrm{in} - V_\\mathrm{a}).\n",
    "\\end{align}\n",
    "\n",
    "Because negligible current goes through the op-amp, $I_\\mathrm{in} \\approx I_\\mathrm{a} \\approx 0$. From the voltage divider, as we have previously seen from Kirchhoff's laws,\n",
    "\n",
    "\\begin{align}\n",
    "V_\\mathrm{a} = \\frac{R_2}{R_1 + R_2}\\,V_\\mathrm{out}.\n",
    "\\end{align}\n",
    "\n",
    "Thus, we have\n",
    "\n",
    "\\begin{align}\n",
    "V_\\mathrm{out} = A\\left(V_\\mathrm{in} - \\frac{R_2}{R_1 + R_2}\\,V_\\mathrm{out}\\right).\n",
    "\\end{align}\n",
    "\n",
    "Rearranging this expression gives\n",
    "\n",
    "\\begin{align}\n",
    "\\left(1 + \\frac{A\\,R_2}{R_1 + R_2}\\right)V_\\mathrm{out} = A\\,V_\\mathrm{in}.\n",
    "\\end{align}\n",
    "\n",
    "Unless we choose hugely disparate values of the resistors, e.g., $R_1$ to be in megaohms and $R_2$ to be one ohm, because $A$ is very large, the term in the parenthesis is\n",
    "\n",
    "\\begin{align}\n",
    "1 + \\frac{A\\,R_2}{R_1 + R_2} \\approx \\frac{A\\,R_2}{R_1 + R_2}.\n",
    "\\end{align}\n",
    "\n",
    "Thus,\n",
    "\n",
    "\\begin{align}\n",
    "\\frac{A\\,R_2}{R_1 + R_2}\\,V_\\mathrm{out} \\approx A\\,V_\\mathrm{in}.\n",
    "\\end{align}\n",
    "\n",
    "The gains cancel! This means that the input-output relationship of the op-amp is independent of the gain. We get the same result as we did above by applying rule 3,\n",
    "\n",
    "\\begin{align}\n",
    "V_\\mathrm{out} = (1 + R_1/R_2)V_\\mathrm{in}.\n",
    "\\end{align}"
   ]
  },
  {
   "cell_type": "markdown",
   "metadata": {},
   "source": [
    "## A unit gain amplifier\n",
    "\n",
    "Consider the following circuit.\n",
    "\n",
    "<div style=\"margin:auto; width: 250px;\">\n",
    "\n",
    "![Unit gain amplifier](unit_gain_amp.svg)\n",
    "    \n",
    "</div>\n",
    "\n",
    "This looks kind of funny. We take the output of the op-amp and put it right back in the inverting input without using a resister of capacitor. What is this doing? It makes more sense if we compare this circuit to the non-inverting amplifier. We see that our circuit is actually a non-inverting amplifier with $R_1 \\approx 0$ and $R_2 \\approx \\infty$. Thus, we have $V_\\mathrm{out} \\approx V_\\mathrm{in}$. The result is a unit-gain amplifier; the input signal is multiplied by unity.\n",
    "\n",
    "This circuit is an example of an **emitter follower** (sometimes just called a **follower**), so named because the output is emitted, following an input. Importantly, the output has very low impedance, much lower than typical input impedance. As a result, the output is isolated from the input due to the large impedance difference. Unit gain amplifiers are quite useful to stabilize input signals prior to measuring them."
   ]
  },
  {
   "cell_type": "markdown",
   "metadata": {},
   "source": [
    "<hr>\n",
    "\n",
    "## Thinking exercise 7: Another amplifier\n",
    "\n",
    "What is the relationship between $V_\\mathrm{in}$ and $V_\\mathrm{out}$ in the circuit below?\n",
    "\n",
    "<div style=\"margin:auto; width: 300px;\">\n",
    "\n",
    "![Inverting amplifier circuit](inverting_amp.svg)\n",
    "    \n",
    "</div>\n",
    "\n",
    "<hr>"
   ]
  },
  {
   "cell_type": "markdown",
   "metadata": {},
   "source": [
    "## Summing amplifiers\n",
    "\n",
    "When designing circuits, we often want to add voltages. A common example is when we use a high pass filter applied to a signal and the DC signal is attenuated to close to zero so that the filtered signal dips into negative voltages. If we have a detector that can only read nonnegative voltages, we will not be able to read our filtered signal. So, we may wish to add an offset voltage to the filtered signal to bring it above zero (e.g., if the *variation* of the signal is what we are interested in).\n",
    "\n",
    "The circuit below is a **non-inverting summing amplifier**. Comparing to the example just described, $V_1$ may be high pass-filtered signal and $V_2$ may be an offset voltage we wish to add to it. \n",
    "\n",
    "<div style=\"margin:auto; width: 300px;\">\n",
    "\n",
    "![Noninverting summing amplifier circuit](noninverting_summer.svg)\n",
    "    \n",
    "</div>\n",
    "\n",
    "The idea is the same as the non-inverting amplifier above; we simply bring in two (or more) input signals into the noninverting input of the op-amp. By [Millman's theorem](https://en.wikipedia.org/wiki/Millman%27s_theorem), the input voltage is\n",
    "\n",
    "\\begin{align}\n",
    "V_\\mathrm{in} = \\frac{V_1/R_1 + V_2/R_2}{R_1^{-1} + R_2^{-1}}.\n",
    "\\end{align}\n",
    "\n",
    "We then apply the result derived above for the amplification, giving\n",
    "\n",
    "\\begin{align}\n",
    "V_\\mathrm{out} = \\left(1 + \\frac{R_3}{R_4}\\right)\\frac{V_1/R_1 + V_2/R_2}{R_1^{-1} + R_2^{-1}}.\n",
    "\\end{align}\n",
    "\n",
    "The resistances $R_1$ and $R_2$ may be tuned to give a weighted sum of the input voltages $V_1$ and $V_2$, and the resistances $R_3$ and $R_4$ may be tuned to give the gain of the amplifier. In the case where $R_1 = R_2$ and $R_3 = R_4$, we get $V_\\mathrm{out} = V_1 + V_2$."
   ]
  },
  {
   "cell_type": "markdown",
   "metadata": {},
   "source": [
    "## Dual op-amps\n",
    "\n",
    "In your kit, you have two [LF412CP dual op-amps](https://www.digikey.com/en/products/detail/texas-instruments/LF412CP/378419). A dual op-amp has two op-amps in the same integrated circuit. The pinout for this component is shown below.\n",
    "\n",
    "<div style=\"margin:auto; width: 200px;\">\n",
    "\n",
    "![LF412CP pinout](LF412CP_pinout.svg)\n",
    "    \n",
    "</div>\n",
    "\n",
    "Note that both of the op-amps share the same power source (Vcc+ and Vcc–).\n",
    "\n",
    "When using this component, it is important to note the small circular indentation on the top. This is used to orient you so you know which pin is which.\n",
    "\n",
    "The component is laid out as a [dual inline package](https://en.wikipedia.org/wiki/Dual_in-line_package) (DIP). The groove in the middle of your solderless breadboard is there for DIP support. You should mount the component across the groove. When you do so, none of the pins of the component are connected to *each other*, and you then can connect the pins to the necessary components of the circuit."
   ]
  },
  {
   "cell_type": "markdown",
   "metadata": {},
   "source": [
    "<hr>\n",
    "\n",
    "## Do-it-yourself exercise 10: Demonstration of noninverting amplification\n",
    "\n",
    "Build the circuit below, taking into account the following considerations.\n",
    "\n",
    "1. Power the dual op-amp with your **5 V PowerBRICK**.\n",
    "2. Do not connect the outputs of the op-amps to A0 and A2 right now. Do that after you upload your sketch.\n",
    "\n",
    "\n",
    "<div style=\"margin:auto; width:500px;\">\n",
    "    \n",
    "![dual op-amp circuit](op_amp_schem.svg)\n",
    "    \n",
    "</div>\n",
    "\n",
    "Write an Arduino sketch to use the MCP4725 DAC to send one volt as input to the first op-amp and to send the outputs of the first and second op-amp to pins A0 and A2, respectively. Prior to plugging in pins A0 and A2 and uploading the sketch, what values to you think they will read?\n",
    "\n",
    "Now plug in A0 and A2, upload the sketch, and see what values pins A0 and A2 read using the Serial Monitor. *Hint*: You may want to put a delay between opening the serial connection and reading and writing the results to make sure everything is ready to go for serial communication.\n",
    "\n",
    "<hr>"
   ]
  },
  {
   "cell_type": "markdown",
   "metadata": {},
   "source": [
    "**Answer to inverting op-amp thinking exercise**\n",
    "\n",
    "We will use the simple rules of op-amps. First, the voltage difference is close to zero, giving $V_a \\approx V_b$. But, $V_b = 0$ because is ground. So, $V_a = 0$. Another rule of op-amps is that the input current is close to zero. Using Kirckhoff's current law, the input current is the sum of the two currents coming in to node (a). The input current due to the input voltage is, by Ohm's law, $V_\\mathrm{in} / R_1$. The input current from the feedback is $V_\\mathrm{out} / R_2$. These have to sum to zero, giving,\n",
    "\n",
    "\\begin{align}\n",
    "\\frac{V_\\mathrm{in}}{R_1} + \\frac{V_\\mathrm{out}}{R_2} = 0,\n",
    "\\end{align}\n",
    "\n",
    "from which we have\n",
    "\n",
    "\\begin{align}\n",
    "V_\\mathrm{out} = -\\frac{R_2}{R_1}\\,V_\\mathrm{in}.\n",
    "\\end{align}\n",
    "\n",
    "The minus sign means that the output voltage is of opposite sign as the input voltage. This circuit is therefore referred to as an **inverting amplifier**."
   ]
  }
 ],
 "metadata": {
  "kernelspec": {
   "display_name": "Python 3",
   "language": "python",
   "name": "python3"
  },
  "language_info": {
   "codemirror_mode": {
    "name": "ipython",
    "version": 3
   },
   "file_extension": ".py",
   "mimetype": "text/x-python",
   "name": "python",
   "nbconvert_exporter": "python",
   "pygments_lexer": "ipython3",
   "version": "3.8.8"
  }
 },
 "nbformat": 4,
 "nbformat_minor": 4
}
