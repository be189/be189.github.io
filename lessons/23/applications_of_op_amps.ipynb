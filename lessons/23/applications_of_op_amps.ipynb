{
 "cells": [
  {
   "cell_type": "markdown",
   "metadata": {},
   "source": [
    "# 23. More applications of op-amps\n",
    "\n",
    "<hr>"
   ]
  },
  {
   "cell_type": "markdown",
   "metadata": {},
   "source": [
    "In the previous lesson, we learned how we can use op-amps for inverting and noninverting amplification and for signal stabilization with an op-amp as an emitter follower.\n",
    "\n",
    "This lesson, in which we present the following applications of operational amplifiers will be posted soon.\n",
    "\n",
    "- Summing\n",
    "- Integrating\n",
    "- Differentiating\n",
    "- Difference amplification (comparator)\n",
    "- Instrumentation amplification (noise reduction from two inputs)\n",
    "- Transimpedence amplification (current-to-voltage conversion)\n",
    "\n",
    "In future lessons, we will also investigate using op-amps in sample-and-hold circuits and in active filters.\n",
    "\n",
    "This content of this lesson is forthcoming, complete with a follow-along and do-it-yourself exercise. Presently, we show only summing amplification."
   ]
  },
  {
   "cell_type": "markdown",
   "metadata": {},
   "source": [
    "## Summing amplifiers\n",
    "\n",
    "When designing circuits, we often want to add voltages. A common example is when we use a high pass filter applied to a signal and the DC signal is attenuated to close to zero so that the filtered signal dips into negative voltages. If we have a detector that can only read nonnegative voltages, we will not be able to read our filtered signal. So, we may wish to add an offset voltage to the filtered signal to bring it above zero (e.g., if the *variation* of the signal is what we are interested in).\n",
    "\n",
    "The circuit below is a **non-inverting summing amplifier**. Comparing to the example just described, $V_1$ may be high pass-filtered signal and $V_2$ may be an offset voltage we wish to add to it. \n",
    "\n",
    "<div style=\"margin:auto; width: 300px;\">\n",
    "\n",
    "![Noninverting summing amplifier circuit](noninverting_summer.svg)\n",
    "    \n",
    "</div>\n",
    "\n",
    "The idea is the same as the non-inverting amplifier above; we simply bring in two (or more) input signals into the noninverting input of the op-amp. By [Millman's theorem](https://en.wikipedia.org/wiki/Millman%27s_theorem), the input voltage is\n",
    "\n",
    "\\begin{align}\n",
    "V_\\mathrm{in} = \\frac{V_1/R_1 + V_2/R_2}{R_1^{-1} + R_2^{-1}}.\n",
    "\\end{align}\n",
    "\n",
    "We then apply the result derived above for the amplification, giving\n",
    "\n",
    "\\begin{align}\n",
    "V_\\mathrm{out} = \\left(1 + \\frac{R_3}{R_4}\\right)\\frac{V_1/R_1 + V_2/R_2}{R_1^{-1} + R_2^{-1}}.\n",
    "\\end{align}\n",
    "\n",
    "The resistances $R_1$ and $R_2$ may be tuned to give a weighted sum of the input voltages $V_1$ and $V_2$, and the resistances $R_3$ and $R_4$ may be tuned to give the gain of the amplifier. In the case where $R_1 = R_2$ and $R_3 = R_4$, we get $V_\\mathrm{out} = V_1 + V_2$."
   ]
  }
 ],
 "metadata": {
  "kernelspec": {
   "display_name": "Python 3 (ipykernel)",
   "language": "python",
   "name": "python3"
  },
  "language_info": {
   "codemirror_mode": {
    "name": "ipython",
    "version": 3
   },
   "file_extension": ".py",
   "mimetype": "text/x-python",
   "name": "python",
   "nbconvert_exporter": "python",
   "pygments_lexer": "ipython3",
   "version": "3.8.11"
  }
 },
 "nbformat": 4,
 "nbformat_minor": 4
}
