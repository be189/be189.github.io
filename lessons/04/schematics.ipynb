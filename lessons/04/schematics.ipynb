{
 "cells": [
  {
   "cell_type": "markdown",
   "metadata": {},
   "source": [
    "# Lesson 4: Schematics\n",
    "\n",
    "<hr>"
   ]
  },
  {
   "cell_type": "markdown",
   "metadata": {},
   "source": [
    "In the previous lesson, showed a drawing of the circuit as it would appear physically in front of us. It looked like this:\n",
    "\n",
    "<div style=\"margin: auto; width: 600px;\">\n",
    "    \n",
    "![blink_bb_2](blink_bb.svg)\n",
    "    \n",
    "</div>\n",
    "\n",
    "While this is a useful representation, it can quickly get cluttered when there are many components. It is also quite difficult to draw by hand. Instead, most electrical circuits are drawn as **schematics**. They are more abstract than the **pictorial representation** above and are easier to create.\n",
    "\n",
    "<div style=\"margin: auto; width: 300px;\">\n",
    "    \n",
    "![blink_schem](blink_schem.svg)\n",
    "    \n",
    "</div>\n",
    "\n"
   ]
  },
  {
   "cell_type": "markdown",
   "metadata": {},
   "source": [
    "The resistor is now represented by a zig-zag line (I call them \"[Charlie Brown shirts](https://www.1843magazine.com/sites/default/files/styles/il_manual_crop_16_9/public/Charlie-Brown-Good-Grief-HEADER_0.png)\") with a label giving its resistance. The LED also has a symbol, and the the Arduino is also represented abstractly, with the pin locations not matching where they physically appear on the board."
   ]
  },
  {
   "cell_type": "markdown",
   "metadata": {},
   "source": [
    "## Learning how to read schematics\n",
    "\n",
    "I could write a long lesson about reading schematics, but I don't think it would be any better than [this very nice tutorial from SparkFun](https://learn.sparkfun.com/tutorials/how-to-read-a-schematic/all). Please read it carefully."
   ]
  },
  {
   "cell_type": "markdown",
   "metadata": {},
   "source": [
    "## Drawing schematics\n",
    "\n",
    "There are many computer programs available for drawing schematics. You will need to do so in your some of your exercises and definitely in your projects. I think it is also useful to show pictorial representations as well. To draw both of these, [Fritzing](https://fritzing.org/) is a valuable and widely used tool. It is possible to get it for free, but if you have the means, I could encourage you to make the suggested donation (€8). Fritzing is fairly self-explanatory to use."
   ]
  }
 ],
 "metadata": {
  "kernelspec": {
   "display_name": "Python 3",
   "language": "python",
   "name": "python3"
  },
  "language_info": {
   "codemirror_mode": {
    "name": "ipython",
    "version": 3
   },
   "file_extension": ".py",
   "mimetype": "text/x-python",
   "name": "python",
   "nbconvert_exporter": "python",
   "pygments_lexer": "ipython3",
   "version": "3.8.3"
  }
 },
 "nbformat": 4,
 "nbformat_minor": 4
}
